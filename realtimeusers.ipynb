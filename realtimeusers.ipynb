{
 "cells": [
  {
   "cell_type": "code",
   "execution_count": 1,
   "id": "71a2b5a4",
   "metadata": {},
   "outputs": [],
   "source": [
    "#importing Libraries\n",
    "\n",
    "import cv2\n",
    "import numpy as np\n",
    "import os\n"
   ]
  },
  {
   "cell_type": "code",
   "execution_count": 2,
   "id": "9de4f885",
   "metadata": {},
   "outputs": [
    {
     "name": "stdout",
     "output_type": "stream",
     "text": [
      "Requirement already satisfied: deepface in c:\\users\\sankalp\\anaconda3\\lib\\site-packages (0.0.89)\n",
      "Requirement already satisfied: numpy>=1.14.0 in c:\\users\\sankalp\\anaconda3\\lib\\site-packages (from deepface) (1.24.3)\n",
      "Requirement already satisfied: pandas>=0.23.4 in c:\\users\\sankalp\\anaconda3\\lib\\site-packages (from deepface) (2.0.3)\n",
      "Requirement already satisfied: gdown>=3.10.1 in c:\\users\\sankalp\\anaconda3\\lib\\site-packages (from deepface) (5.1.0)\n",
      "Requirement already satisfied: tqdm>=4.30.0 in c:\\users\\sankalp\\anaconda3\\lib\\site-packages (from deepface) (4.65.0)\n",
      "Requirement already satisfied: Pillow>=5.2.0 in c:\\users\\sankalp\\anaconda3\\lib\\site-packages (from deepface) (10.0.1)\n",
      "Requirement already satisfied: opencv-python>=4.5.5.64 in c:\\users\\sankalp\\anaconda3\\lib\\site-packages (from deepface) (4.9.0.80)\n",
      "Requirement already satisfied: tensorflow>=1.9.0 in c:\\users\\sankalp\\anaconda3\\lib\\site-packages (from deepface) (2.15.0)\n",
      "Requirement already satisfied: keras>=2.2.0 in c:\\users\\sankalp\\anaconda3\\lib\\site-packages (from deepface) (2.15.0)\n",
      "Requirement already satisfied: Flask>=1.1.2 in c:\\users\\sankalp\\anaconda3\\lib\\site-packages (from deepface) (2.2.2)\n",
      "Requirement already satisfied: mtcnn>=0.1.0 in c:\\users\\sankalp\\anaconda3\\lib\\site-packages (from deepface) (0.1.1)\n",
      "Requirement already satisfied: retina-face>=0.0.1 in c:\\users\\sankalp\\anaconda3\\lib\\site-packages (from deepface) (0.0.16)\n",
      "Requirement already satisfied: fire>=0.4.0 in c:\\users\\sankalp\\anaconda3\\lib\\site-packages (from deepface) (0.6.0)\n",
      "Requirement already satisfied: gunicorn>=20.1.0 in c:\\users\\sankalp\\anaconda3\\lib\\site-packages (from deepface) (21.2.0)\n",
      "Requirement already satisfied: six in c:\\users\\sankalp\\anaconda3\\lib\\site-packages (from fire>=0.4.0->deepface) (1.16.0)\n",
      "Requirement already satisfied: termcolor in c:\\users\\sankalp\\anaconda3\\lib\\site-packages (from fire>=0.4.0->deepface) (2.4.0)\n",
      "Requirement already satisfied: Werkzeug>=2.2.2 in c:\\users\\sankalp\\anaconda3\\lib\\site-packages (from Flask>=1.1.2->deepface) (2.2.3)\n",
      "Requirement already satisfied: Jinja2>=3.0 in c:\\users\\sankalp\\anaconda3\\lib\\site-packages (from Flask>=1.1.2->deepface) (3.1.2)\n",
      "Requirement already satisfied: itsdangerous>=2.0 in c:\\users\\sankalp\\anaconda3\\lib\\site-packages (from Flask>=1.1.2->deepface) (2.0.1)\n",
      "Requirement already satisfied: click>=8.0 in c:\\users\\sankalp\\anaconda3\\lib\\site-packages (from Flask>=1.1.2->deepface) (8.0.4)\n",
      "Requirement already satisfied: beautifulsoup4 in c:\\users\\sankalp\\anaconda3\\lib\\site-packages (from gdown>=3.10.1->deepface) (4.12.2)\n",
      "Requirement already satisfied: filelock in c:\\users\\sankalp\\anaconda3\\lib\\site-packages (from gdown>=3.10.1->deepface) (3.9.0)\n",
      "Requirement already satisfied: requests[socks] in c:\\users\\sankalp\\anaconda3\\lib\\site-packages (from gdown>=3.10.1->deepface) (2.31.0)\n",
      "Requirement already satisfied: packaging in c:\\users\\sankalp\\anaconda3\\lib\\site-packages (from gunicorn>=20.1.0->deepface) (23.1)\n",
      "Requirement already satisfied: python-dateutil>=2.8.2 in c:\\users\\sankalp\\anaconda3\\lib\\site-packages (from pandas>=0.23.4->deepface) (2.8.2)\n",
      "Requirement already satisfied: pytz>=2020.1 in c:\\users\\sankalp\\anaconda3\\lib\\site-packages (from pandas>=0.23.4->deepface) (2023.3.post1)\n",
      "Requirement already satisfied: tzdata>=2022.1 in c:\\users\\sankalp\\anaconda3\\lib\\site-packages (from pandas>=0.23.4->deepface) (2023.3)\n",
      "Requirement already satisfied: tensorflow-intel==2.15.0 in c:\\users\\sankalp\\anaconda3\\lib\\site-packages (from tensorflow>=1.9.0->deepface) (2.15.0)\n",
      "Requirement already satisfied: absl-py>=1.0.0 in c:\\users\\sankalp\\anaconda3\\lib\\site-packages (from tensorflow-intel==2.15.0->tensorflow>=1.9.0->deepface) (2.0.0)\n",
      "Requirement already satisfied: astunparse>=1.6.0 in c:\\users\\sankalp\\anaconda3\\lib\\site-packages (from tensorflow-intel==2.15.0->tensorflow>=1.9.0->deepface) (1.6.3)\n",
      "Requirement already satisfied: flatbuffers>=23.5.26 in c:\\users\\sankalp\\anaconda3\\lib\\site-packages (from tensorflow-intel==2.15.0->tensorflow>=1.9.0->deepface) (23.5.26)\n",
      "Requirement already satisfied: gast!=0.5.0,!=0.5.1,!=0.5.2,>=0.2.1 in c:\\users\\sankalp\\anaconda3\\lib\\site-packages (from tensorflow-intel==2.15.0->tensorflow>=1.9.0->deepface) (0.5.4)\n",
      "Requirement already satisfied: google-pasta>=0.1.1 in c:\\users\\sankalp\\anaconda3\\lib\\site-packages (from tensorflow-intel==2.15.0->tensorflow>=1.9.0->deepface) (0.2.0)\n",
      "Requirement already satisfied: h5py>=2.9.0 in c:\\users\\sankalp\\anaconda3\\lib\\site-packages (from tensorflow-intel==2.15.0->tensorflow>=1.9.0->deepface) (3.9.0)\n",
      "Requirement already satisfied: libclang>=13.0.0 in c:\\users\\sankalp\\anaconda3\\lib\\site-packages (from tensorflow-intel==2.15.0->tensorflow>=1.9.0->deepface) (16.0.6)\n",
      "Requirement already satisfied: ml-dtypes~=0.2.0 in c:\\users\\sankalp\\anaconda3\\lib\\site-packages (from tensorflow-intel==2.15.0->tensorflow>=1.9.0->deepface) (0.2.0)\n",
      "Requirement already satisfied: opt-einsum>=2.3.2 in c:\\users\\sankalp\\anaconda3\\lib\\site-packages (from tensorflow-intel==2.15.0->tensorflow>=1.9.0->deepface) (3.3.0)\n",
      "Requirement already satisfied: protobuf!=4.21.0,!=4.21.1,!=4.21.2,!=4.21.3,!=4.21.4,!=4.21.5,<5.0.0dev,>=3.20.3 in c:\\users\\sankalp\\anaconda3\\lib\\site-packages (from tensorflow-intel==2.15.0->tensorflow>=1.9.0->deepface) (4.23.4)\n",
      "Requirement already satisfied: setuptools in c:\\users\\sankalp\\anaconda3\\lib\\site-packages (from tensorflow-intel==2.15.0->tensorflow>=1.9.0->deepface) (68.0.0)\n",
      "Requirement already satisfied: typing-extensions>=3.6.6 in c:\\users\\sankalp\\anaconda3\\lib\\site-packages (from tensorflow-intel==2.15.0->tensorflow>=1.9.0->deepface) (4.7.1)\n",
      "Requirement already satisfied: wrapt<1.15,>=1.11.0 in c:\\users\\sankalp\\anaconda3\\lib\\site-packages (from tensorflow-intel==2.15.0->tensorflow>=1.9.0->deepface) (1.14.1)\n",
      "Requirement already satisfied: tensorflow-io-gcs-filesystem>=0.23.1 in c:\\users\\sankalp\\anaconda3\\lib\\site-packages (from tensorflow-intel==2.15.0->tensorflow>=1.9.0->deepface) (0.31.0)\n",
      "Requirement already satisfied: grpcio<2.0,>=1.24.3 in c:\\users\\sankalp\\anaconda3\\lib\\site-packages (from tensorflow-intel==2.15.0->tensorflow>=1.9.0->deepface) (1.60.0)\n",
      "Requirement already satisfied: tensorboard<2.16,>=2.15 in c:\\users\\sankalp\\anaconda3\\lib\\site-packages (from tensorflow-intel==2.15.0->tensorflow>=1.9.0->deepface) (2.15.1)\n",
      "Requirement already satisfied: tensorflow-estimator<2.16,>=2.15.0 in c:\\users\\sankalp\\anaconda3\\lib\\site-packages (from tensorflow-intel==2.15.0->tensorflow>=1.9.0->deepface) (2.15.0)\n",
      "Requirement already satisfied: colorama in c:\\users\\sankalp\\anaconda3\\lib\\site-packages (from tqdm>=4.30.0->deepface) (0.4.6)\n",
      "Requirement already satisfied: MarkupSafe>=2.0 in c:\\users\\sankalp\\anaconda3\\lib\\site-packages (from Jinja2>=3.0->Flask>=1.1.2->deepface) (2.1.1)\n",
      "Requirement already satisfied: soupsieve>1.2 in c:\\users\\sankalp\\anaconda3\\lib\\site-packages (from beautifulsoup4->gdown>=3.10.1->deepface) (2.4)\n",
      "Requirement already satisfied: charset-normalizer<4,>=2 in c:\\users\\sankalp\\anaconda3\\lib\\site-packages (from requests[socks]->gdown>=3.10.1->deepface) (2.0.4)\n",
      "Requirement already satisfied: idna<4,>=2.5 in c:\\users\\sankalp\\anaconda3\\lib\\site-packages (from requests[socks]->gdown>=3.10.1->deepface) (3.4)\n",
      "Requirement already satisfied: urllib3<3,>=1.21.1 in c:\\users\\sankalp\\anaconda3\\lib\\site-packages (from requests[socks]->gdown>=3.10.1->deepface) (1.26.16)\n",
      "Requirement already satisfied: certifi>=2017.4.17 in c:\\users\\sankalp\\anaconda3\\lib\\site-packages (from requests[socks]->gdown>=3.10.1->deepface) (2023.11.17)\n",
      "Requirement already satisfied: PySocks!=1.5.7,>=1.5.6 in c:\\users\\sankalp\\anaconda3\\lib\\site-packages (from requests[socks]->gdown>=3.10.1->deepface) (1.7.1)\n",
      "Requirement already satisfied: wheel<1.0,>=0.23.0 in c:\\users\\sankalp\\anaconda3\\lib\\site-packages (from astunparse>=1.6.0->tensorflow-intel==2.15.0->tensorflow>=1.9.0->deepface) (0.38.4)\n",
      "Requirement already satisfied: google-auth<3,>=1.6.3 in c:\\users\\sankalp\\anaconda3\\lib\\site-packages (from tensorboard<2.16,>=2.15->tensorflow-intel==2.15.0->tensorflow>=1.9.0->deepface) (2.25.2)\n",
      "Requirement already satisfied: google-auth-oauthlib<2,>=0.5 in c:\\users\\sankalp\\anaconda3\\lib\\site-packages (from tensorboard<2.16,>=2.15->tensorflow-intel==2.15.0->tensorflow>=1.9.0->deepface) (1.2.0)\n",
      "Requirement already satisfied: markdown>=2.6.8 in c:\\users\\sankalp\\anaconda3\\lib\\site-packages (from tensorboard<2.16,>=2.15->tensorflow-intel==2.15.0->tensorflow>=1.9.0->deepface) (3.4.1)\n",
      "Requirement already satisfied: tensorboard-data-server<0.8.0,>=0.7.0 in c:\\users\\sankalp\\anaconda3\\lib\\site-packages (from tensorboard<2.16,>=2.15->tensorflow-intel==2.15.0->tensorflow>=1.9.0->deepface) (0.7.2)\n",
      "Requirement already satisfied: cachetools<6.0,>=2.0.0 in c:\\users\\sankalp\\anaconda3\\lib\\site-packages (from google-auth<3,>=1.6.3->tensorboard<2.16,>=2.15->tensorflow-intel==2.15.0->tensorflow>=1.9.0->deepface) (5.3.2)\n",
      "Requirement already satisfied: pyasn1-modules>=0.2.1 in c:\\users\\sankalp\\anaconda3\\lib\\site-packages (from google-auth<3,>=1.6.3->tensorboard<2.16,>=2.15->tensorflow-intel==2.15.0->tensorflow>=1.9.0->deepface) (0.2.8)\n",
      "Requirement already satisfied: rsa<5,>=3.1.4 in c:\\users\\sankalp\\anaconda3\\lib\\site-packages (from google-auth<3,>=1.6.3->tensorboard<2.16,>=2.15->tensorflow-intel==2.15.0->tensorflow>=1.9.0->deepface) (4.9)\n",
      "Requirement already satisfied: requests-oauthlib>=0.7.0 in c:\\users\\sankalp\\anaconda3\\lib\\site-packages (from google-auth-oauthlib<2,>=0.5->tensorboard<2.16,>=2.15->tensorflow-intel==2.15.0->tensorflow>=1.9.0->deepface) (1.3.1)\n",
      "Requirement already satisfied: pyasn1<0.5.0,>=0.4.6 in c:\\users\\sankalp\\anaconda3\\lib\\site-packages (from pyasn1-modules>=0.2.1->google-auth<3,>=1.6.3->tensorboard<2.16,>=2.15->tensorflow-intel==2.15.0->tensorflow>=1.9.0->deepface) (0.4.8)\n",
      "Requirement already satisfied: oauthlib>=3.0.0 in c:\\users\\sankalp\\anaconda3\\lib\\site-packages (from requests-oauthlib>=0.7.0->google-auth-oauthlib<2,>=0.5->tensorboard<2.16,>=2.15->tensorflow-intel==2.15.0->tensorflow>=1.9.0->deepface) (3.2.2)\n"
     ]
    }
   ],
   "source": [
    "!pip install deepface"
   ]
  },
  {
   "cell_type": "code",
   "execution_count": 3,
   "id": "b8a28c51",
   "metadata": {},
   "outputs": [
    {
     "name": "stdout",
     "output_type": "stream",
     "text": [
      "WARNING:tensorflow:From C:\\Users\\sankalp\\anaconda3\\Lib\\site-packages\\keras\\src\\losses.py:2976: The name tf.losses.sparse_softmax_cross_entropy is deprecated. Please use tf.compat.v1.losses.sparse_softmax_cross_entropy instead.\n",
      "\n"
     ]
    }
   ],
   "source": [
    "import tensorflow.keras as keras"
   ]
  },
  {
   "cell_type": "code",
   "execution_count": 5,
   "id": "4ef68f09",
   "metadata": {},
   "outputs": [],
   "source": [
    "import cv2\n",
    "from deepface import DeepFace\n",
    "\n",
    "facecascade = cv2.CascadeClassifier(cv2.data.haarcascades + 'haarcascade_frontalface_default.xml')\n",
    "cap = cv2.VideoCapture(0)\n",
    "\n",
    "if not cap.isOpened():\n",
    "    raise IOError(\"webcam not working\")\n",
    "\n",
    "while True:\n",
    "    ret, frame = cap.read()\n",
    "    results = DeepFace.analyze(frame, actions=['emotion'], enforce_detection=False)  # Set enforce_detection to False\n",
    "    gray = cv2.cvtColor(frame, cv2.COLOR_BGR2GRAY)\n",
    "    faces = facecascade.detectMultiScale(gray, 1.1, 4)\n",
    "    for (x, y, w, h), result in zip(faces, results):\n",
    "        cv2.rectangle(frame, (x, y), (x+w, y+h), (0, 255, 0), 2)\n",
    "        font = cv2.FONT_HERSHEY_SIMPLEX\n",
    "        cv2.putText(frame,\n",
    "                    result['dominant_emotion'],\n",
    "                    (x, y - 10),\n",
    "                    font, 0.9,\n",
    "                    (0, 255, 0),\n",
    "                    2,\n",
    "                    cv2.LINE_4)\n",
    "    cv2.imshow('Original Video', frame)\n",
    "    if cv2.waitKey(2) & 0xFF == ord('q'):\n",
    "        break"
   ]
  },
  {
   "cell_type": "code",
   "execution_count": null,
   "id": "516c6b36",
   "metadata": {},
   "outputs": [],
   "source": []
  }
 ],
 "metadata": {
  "kernelspec": {
   "display_name": "Python 3 (ipykernel)",
   "language": "python",
   "name": "python3"
  },
  "language_info": {
   "codemirror_mode": {
    "name": "ipython",
    "version": 3
   },
   "file_extension": ".py",
   "mimetype": "text/x-python",
   "name": "python",
   "nbconvert_exporter": "python",
   "pygments_lexer": "ipython3",
   "version": "3.11.5"
  }
 },
 "nbformat": 4,
 "nbformat_minor": 5
}
